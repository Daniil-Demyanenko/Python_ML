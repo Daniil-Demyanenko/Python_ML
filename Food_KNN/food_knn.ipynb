{
 "cells": [
  {
   "cell_type": "code",
   "execution_count": 1,
   "metadata": {},
   "outputs": [
    {
     "data": {
      "text/html": [
       "<div>\n",
       "<style scoped>\n",
       "    .dataframe tbody tr th:only-of-type {\n",
       "        vertical-align: middle;\n",
       "    }\n",
       "\n",
       "    .dataframe tbody tr th {\n",
       "        vertical-align: top;\n",
       "    }\n",
       "\n",
       "    .dataframe thead th {\n",
       "        text-align: right;\n",
       "    }\n",
       "</style>\n",
       "<table border=\"1\" class=\"dataframe\">\n",
       "  <thead>\n",
       "    <tr style=\"text-align: right;\">\n",
       "      <th></th>\n",
       "      <th>Unnamed: 0</th>\n",
       "      <th>NDB_No</th>\n",
       "      <th>Shrt_Desc</th>\n",
       "      <th>Water_(g)</th>\n",
       "      <th>Energ_Kcal</th>\n",
       "      <th>Protein_(g)</th>\n",
       "      <th>Lipid_Tot_(g)</th>\n",
       "      <th>Ash_(g)</th>\n",
       "      <th>Carbohydrt_(g)</th>\n",
       "      <th>Fiber_TD_(g)</th>\n",
       "      <th>...</th>\n",
       "      <th>FA_Sat_(g)</th>\n",
       "      <th>FA_Mono_(g)</th>\n",
       "      <th>FA_Poly_(g)</th>\n",
       "      <th>Cholestrl_(mg)</th>\n",
       "      <th>GmWt_1</th>\n",
       "      <th>GmWt_Desc1</th>\n",
       "      <th>GmWt_2</th>\n",
       "      <th>GmWt_Desc2</th>\n",
       "      <th>Refuse_Pct</th>\n",
       "      <th>CLASS</th>\n",
       "    </tr>\n",
       "  </thead>\n",
       "  <tbody>\n",
       "    <tr>\n",
       "      <th>0</th>\n",
       "      <td>0</td>\n",
       "      <td>1001</td>\n",
       "      <td>BUTTER,WITH SALT</td>\n",
       "      <td>15.87</td>\n",
       "      <td>717</td>\n",
       "      <td>0.85</td>\n",
       "      <td>81.11</td>\n",
       "      <td>2.11</td>\n",
       "      <td>0.06</td>\n",
       "      <td>0.0</td>\n",
       "      <td>...</td>\n",
       "      <td>51.368</td>\n",
       "      <td>21.021</td>\n",
       "      <td>3.043</td>\n",
       "      <td>215.0</td>\n",
       "      <td>5.00</td>\n",
       "      <td>1 pat,  (1\" sq, 1/3\" high)</td>\n",
       "      <td>14.2</td>\n",
       "      <td>1 tbsp</td>\n",
       "      <td>0.0</td>\n",
       "      <td>10</td>\n",
       "    </tr>\n",
       "    <tr>\n",
       "      <th>1</th>\n",
       "      <td>1</td>\n",
       "      <td>1002</td>\n",
       "      <td>BUTTER,WHIPPED,W/ SALT</td>\n",
       "      <td>16.72</td>\n",
       "      <td>718</td>\n",
       "      <td>0.49</td>\n",
       "      <td>78.30</td>\n",
       "      <td>1.62</td>\n",
       "      <td>2.87</td>\n",
       "      <td>0.0</td>\n",
       "      <td>...</td>\n",
       "      <td>45.390</td>\n",
       "      <td>19.874</td>\n",
       "      <td>3.331</td>\n",
       "      <td>225.0</td>\n",
       "      <td>3.80</td>\n",
       "      <td>1 pat,  (1\" sq, 1/3\" high)</td>\n",
       "      <td>9.4</td>\n",
       "      <td>1 tbsp</td>\n",
       "      <td>0.0</td>\n",
       "      <td>10</td>\n",
       "    </tr>\n",
       "    <tr>\n",
       "      <th>2</th>\n",
       "      <td>2</td>\n",
       "      <td>1003</td>\n",
       "      <td>BUTTER OIL,ANHYDROUS</td>\n",
       "      <td>0.24</td>\n",
       "      <td>876</td>\n",
       "      <td>0.28</td>\n",
       "      <td>99.48</td>\n",
       "      <td>0.00</td>\n",
       "      <td>0.00</td>\n",
       "      <td>0.0</td>\n",
       "      <td>...</td>\n",
       "      <td>61.924</td>\n",
       "      <td>28.732</td>\n",
       "      <td>3.694</td>\n",
       "      <td>256.0</td>\n",
       "      <td>12.80</td>\n",
       "      <td>1 tbsp</td>\n",
       "      <td>205.0</td>\n",
       "      <td>1 cup</td>\n",
       "      <td>0.0</td>\n",
       "      <td>0</td>\n",
       "    </tr>\n",
       "    <tr>\n",
       "      <th>3</th>\n",
       "      <td>3</td>\n",
       "      <td>1004</td>\n",
       "      <td>CHEESE,BLUE</td>\n",
       "      <td>42.41</td>\n",
       "      <td>353</td>\n",
       "      <td>21.40</td>\n",
       "      <td>28.74</td>\n",
       "      <td>5.11</td>\n",
       "      <td>2.34</td>\n",
       "      <td>0.0</td>\n",
       "      <td>...</td>\n",
       "      <td>18.669</td>\n",
       "      <td>7.778</td>\n",
       "      <td>0.800</td>\n",
       "      <td>75.0</td>\n",
       "      <td>28.35</td>\n",
       "      <td>1 oz</td>\n",
       "      <td>17.0</td>\n",
       "      <td>1 cubic inch</td>\n",
       "      <td>0.0</td>\n",
       "      <td>10</td>\n",
       "    </tr>\n",
       "    <tr>\n",
       "      <th>4</th>\n",
       "      <td>4</td>\n",
       "      <td>1005</td>\n",
       "      <td>CHEESE,BRICK</td>\n",
       "      <td>41.11</td>\n",
       "      <td>371</td>\n",
       "      <td>23.24</td>\n",
       "      <td>29.68</td>\n",
       "      <td>3.18</td>\n",
       "      <td>2.79</td>\n",
       "      <td>0.0</td>\n",
       "      <td>...</td>\n",
       "      <td>18.764</td>\n",
       "      <td>8.598</td>\n",
       "      <td>0.784</td>\n",
       "      <td>94.0</td>\n",
       "      <td>132.00</td>\n",
       "      <td>1 cup, diced</td>\n",
       "      <td>113.0</td>\n",
       "      <td>1 cup, shredded</td>\n",
       "      <td>0.0</td>\n",
       "      <td>10</td>\n",
       "    </tr>\n",
       "  </tbody>\n",
       "</table>\n",
       "<p>5 rows × 55 columns</p>\n",
       "</div>"
      ],
      "text/plain": [
       "   Unnamed: 0  NDB_No               Shrt_Desc  Water_(g)  Energ_Kcal  \\\n",
       "0           0    1001        BUTTER,WITH SALT      15.87         717   \n",
       "1           1    1002  BUTTER,WHIPPED,W/ SALT      16.72         718   \n",
       "2           2    1003    BUTTER OIL,ANHYDROUS       0.24         876   \n",
       "3           3    1004             CHEESE,BLUE      42.41         353   \n",
       "4           4    1005            CHEESE,BRICK      41.11         371   \n",
       "\n",
       "   Protein_(g)  Lipid_Tot_(g)  Ash_(g)  Carbohydrt_(g)  Fiber_TD_(g)  ...  \\\n",
       "0         0.85          81.11     2.11            0.06           0.0  ...   \n",
       "1         0.49          78.30     1.62            2.87           0.0  ...   \n",
       "2         0.28          99.48     0.00            0.00           0.0  ...   \n",
       "3        21.40          28.74     5.11            2.34           0.0  ...   \n",
       "4        23.24          29.68     3.18            2.79           0.0  ...   \n",
       "\n",
       "   FA_Sat_(g)  FA_Mono_(g)  FA_Poly_(g)  Cholestrl_(mg)  GmWt_1  \\\n",
       "0      51.368       21.021        3.043           215.0    5.00   \n",
       "1      45.390       19.874        3.331           225.0    3.80   \n",
       "2      61.924       28.732        3.694           256.0   12.80   \n",
       "3      18.669        7.778        0.800            75.0   28.35   \n",
       "4      18.764        8.598        0.784            94.0  132.00   \n",
       "\n",
       "                   GmWt_Desc1  GmWt_2       GmWt_Desc2  Refuse_Pct  CLASS  \n",
       "0  1 pat,  (1\" sq, 1/3\" high)    14.2           1 tbsp         0.0     10  \n",
       "1  1 pat,  (1\" sq, 1/3\" high)     9.4           1 tbsp         0.0     10  \n",
       "2                      1 tbsp   205.0            1 cup         0.0      0  \n",
       "3                        1 oz    17.0     1 cubic inch         0.0     10  \n",
       "4                1 cup, diced   113.0  1 cup, shredded         0.0     10  \n",
       "\n",
       "[5 rows x 55 columns]"
      ]
     },
     "execution_count": 1,
     "metadata": {},
     "output_type": "execute_result"
    }
   ],
   "source": [
    "import pandas as pd\n",
    "import matplotlib.pyplot as plt\n",
    "import numpy as np\n",
    "import seaborn as sns\n",
    "\n",
    "df = pd.read_excel(\"ABBREV_with_CLASS.xlsx\")\n",
    "df.head()"
   ]
  },
  {
   "cell_type": "code",
   "execution_count": 2,
   "metadata": {},
   "outputs": [
    {
     "data": {
      "text/html": [
       "<div>\n",
       "<style scoped>\n",
       "    .dataframe tbody tr th:only-of-type {\n",
       "        vertical-align: middle;\n",
       "    }\n",
       "\n",
       "    .dataframe tbody tr th {\n",
       "        vertical-align: top;\n",
       "    }\n",
       "\n",
       "    .dataframe thead th {\n",
       "        text-align: right;\n",
       "    }\n",
       "</style>\n",
       "<table border=\"1\" class=\"dataframe\">\n",
       "  <thead>\n",
       "    <tr style=\"text-align: right;\">\n",
       "      <th></th>\n",
       "      <th>Unnamed: 0</th>\n",
       "      <th>NDB_No</th>\n",
       "      <th>Water_(g)</th>\n",
       "      <th>Energ_Kcal</th>\n",
       "      <th>Protein_(g)</th>\n",
       "      <th>Lipid_Tot_(g)</th>\n",
       "      <th>Ash_(g)</th>\n",
       "      <th>Carbohydrt_(g)</th>\n",
       "      <th>Fiber_TD_(g)</th>\n",
       "      <th>Sugar_Tot_(g)</th>\n",
       "      <th>...</th>\n",
       "      <th>Vit_D_IU</th>\n",
       "      <th>Vit_K_(µg)</th>\n",
       "      <th>FA_Sat_(g)</th>\n",
       "      <th>FA_Mono_(g)</th>\n",
       "      <th>FA_Poly_(g)</th>\n",
       "      <th>Cholestrl_(mg)</th>\n",
       "      <th>GmWt_1</th>\n",
       "      <th>GmWt_2</th>\n",
       "      <th>Refuse_Pct</th>\n",
       "      <th>CLASS</th>\n",
       "    </tr>\n",
       "  </thead>\n",
       "  <tbody>\n",
       "    <tr>\n",
       "      <th>count</th>\n",
       "      <td>8790.000000</td>\n",
       "      <td>8790.000000</td>\n",
       "      <td>8789.000000</td>\n",
       "      <td>8790.000000</td>\n",
       "      <td>8790.000000</td>\n",
       "      <td>8790.000000</td>\n",
       "      <td>8465.000000</td>\n",
       "      <td>8790.000000</td>\n",
       "      <td>8196.000000</td>\n",
       "      <td>6958.000000</td>\n",
       "      <td>...</td>\n",
       "      <td>5579.000000</td>\n",
       "      <td>5227.000000</td>\n",
       "      <td>8441.000000</td>\n",
       "      <td>8124.000000</td>\n",
       "      <td>8125.000000</td>\n",
       "      <td>8380.000000</td>\n",
       "      <td>8490.000000</td>\n",
       "      <td>4825.000000</td>\n",
       "      <td>8740.000000</td>\n",
       "      <td>8790.000000</td>\n",
       "    </tr>\n",
       "    <tr>\n",
       "      <th>mean</th>\n",
       "      <td>4394.500000</td>\n",
       "      <td>15663.495222</td>\n",
       "      <td>54.112218</td>\n",
       "      <td>226.317634</td>\n",
       "      <td>11.342849</td>\n",
       "      <td>10.553725</td>\n",
       "      <td>1.783468</td>\n",
       "      <td>22.127710</td>\n",
       "      <td>2.187445</td>\n",
       "      <td>8.543066</td>\n",
       "      <td>...</td>\n",
       "      <td>22.990142</td>\n",
       "      <td>15.631586</td>\n",
       "      <td>3.576334</td>\n",
       "      <td>4.081006</td>\n",
       "      <td>2.288767</td>\n",
       "      <td>40.613246</td>\n",
       "      <td>96.395130</td>\n",
       "      <td>250.747668</td>\n",
       "      <td>4.964416</td>\n",
       "      <td>5.715586</td>\n",
       "    </tr>\n",
       "    <tr>\n",
       "      <th>std</th>\n",
       "      <td>2537.598767</td>\n",
       "      <td>9251.413586</td>\n",
       "      <td>30.772854</td>\n",
       "      <td>169.877539</td>\n",
       "      <td>10.530474</td>\n",
       "      <td>15.814842</td>\n",
       "      <td>3.004609</td>\n",
       "      <td>27.270822</td>\n",
       "      <td>4.383138</td>\n",
       "      <td>14.923626</td>\n",
       "      <td>...</td>\n",
       "      <td>154.614465</td>\n",
       "      <td>79.949125</td>\n",
       "      <td>6.518840</td>\n",
       "      <td>7.010760</td>\n",
       "      <td>5.215654</td>\n",
       "      <td>119.869371</td>\n",
       "      <td>84.337063</td>\n",
       "      <td>382.226774</td>\n",
       "      <td>12.088471</td>\n",
       "      <td>5.076376</td>\n",
       "    </tr>\n",
       "    <tr>\n",
       "      <th>min</th>\n",
       "      <td>0.000000</td>\n",
       "      <td>1001.000000</td>\n",
       "      <td>0.000000</td>\n",
       "      <td>0.000000</td>\n",
       "      <td>0.000000</td>\n",
       "      <td>0.000000</td>\n",
       "      <td>0.000000</td>\n",
       "      <td>0.000000</td>\n",
       "      <td>0.000000</td>\n",
       "      <td>0.000000</td>\n",
       "      <td>...</td>\n",
       "      <td>0.000000</td>\n",
       "      <td>0.000000</td>\n",
       "      <td>0.000000</td>\n",
       "      <td>0.000000</td>\n",
       "      <td>0.000000</td>\n",
       "      <td>0.000000</td>\n",
       "      <td>0.100000</td>\n",
       "      <td>0.400000</td>\n",
       "      <td>0.000000</td>\n",
       "      <td>0.000000</td>\n",
       "    </tr>\n",
       "    <tr>\n",
       "      <th>25%</th>\n",
       "      <td>2197.250000</td>\n",
       "      <td>9086.250000</td>\n",
       "      <td>29.700000</td>\n",
       "      <td>91.000000</td>\n",
       "      <td>2.380000</td>\n",
       "      <td>0.950000</td>\n",
       "      <td>0.840000</td>\n",
       "      <td>0.050000</td>\n",
       "      <td>0.000000</td>\n",
       "      <td>0.000000</td>\n",
       "      <td>...</td>\n",
       "      <td>0.000000</td>\n",
       "      <td>0.200000</td>\n",
       "      <td>0.220000</td>\n",
       "      <td>0.235750</td>\n",
       "      <td>0.220000</td>\n",
       "      <td>0.000000</td>\n",
       "      <td>29.000000</td>\n",
       "      <td>42.000000</td>\n",
       "      <td>0.000000</td>\n",
       "      <td>0.000000</td>\n",
       "    </tr>\n",
       "    <tr>\n",
       "      <th>50%</th>\n",
       "      <td>4394.500000</td>\n",
       "      <td>14427.500000</td>\n",
       "      <td>63.080000</td>\n",
       "      <td>191.000000</td>\n",
       "      <td>8.000000</td>\n",
       "      <td>5.140000</td>\n",
       "      <td>1.200000</td>\n",
       "      <td>9.340000</td>\n",
       "      <td>0.700000</td>\n",
       "      <td>1.840000</td>\n",
       "      <td>...</td>\n",
       "      <td>0.000000</td>\n",
       "      <td>1.600000</td>\n",
       "      <td>1.592000</td>\n",
       "      <td>1.938500</td>\n",
       "      <td>0.696000</td>\n",
       "      <td>4.000000</td>\n",
       "      <td>85.000000</td>\n",
       "      <td>164.000000</td>\n",
       "      <td>0.000000</td>\n",
       "      <td>10.000000</td>\n",
       "    </tr>\n",
       "    <tr>\n",
       "      <th>75%</th>\n",
       "      <td>6591.750000</td>\n",
       "      <td>20142.750000</td>\n",
       "      <td>77.960000</td>\n",
       "      <td>337.000000</td>\n",
       "      <td>19.880000</td>\n",
       "      <td>13.720000</td>\n",
       "      <td>2.090000</td>\n",
       "      <td>34.910000</td>\n",
       "      <td>2.600000</td>\n",
       "      <td>9.287500</td>\n",
       "      <td>...</td>\n",
       "      <td>6.000000</td>\n",
       "      <td>5.200000</td>\n",
       "      <td>4.345000</td>\n",
       "      <td>5.115000</td>\n",
       "      <td>2.081000</td>\n",
       "      <td>67.000000</td>\n",
       "      <td>130.000000</td>\n",
       "      <td>305.000000</td>\n",
       "      <td>0.000000</td>\n",
       "      <td>10.000000</td>\n",
       "    </tr>\n",
       "    <tr>\n",
       "      <th>max</th>\n",
       "      <td>8789.000000</td>\n",
       "      <td>93600.000000</td>\n",
       "      <td>100.000000</td>\n",
       "      <td>902.000000</td>\n",
       "      <td>88.320000</td>\n",
       "      <td>100.000000</td>\n",
       "      <td>99.800000</td>\n",
       "      <td>100.000000</td>\n",
       "      <td>79.000000</td>\n",
       "      <td>99.800000</td>\n",
       "      <td>...</td>\n",
       "      <td>10000.000000</td>\n",
       "      <td>1714.500000</td>\n",
       "      <td>95.600000</td>\n",
       "      <td>83.689000</td>\n",
       "      <td>74.623000</td>\n",
       "      <td>3100.000000</td>\n",
       "      <td>1184.000000</td>\n",
       "      <td>5717.000000</td>\n",
       "      <td>81.000000</td>\n",
       "      <td>11.000000</td>\n",
       "    </tr>\n",
       "  </tbody>\n",
       "</table>\n",
       "<p>8 rows × 52 columns</p>\n",
       "</div>"
      ],
      "text/plain": [
       "        Unnamed: 0        NDB_No    Water_(g)   Energ_Kcal  Protein_(g)  \\\n",
       "count  8790.000000   8790.000000  8789.000000  8790.000000  8790.000000   \n",
       "mean   4394.500000  15663.495222    54.112218   226.317634    11.342849   \n",
       "std    2537.598767   9251.413586    30.772854   169.877539    10.530474   \n",
       "min       0.000000   1001.000000     0.000000     0.000000     0.000000   \n",
       "25%    2197.250000   9086.250000    29.700000    91.000000     2.380000   \n",
       "50%    4394.500000  14427.500000    63.080000   191.000000     8.000000   \n",
       "75%    6591.750000  20142.750000    77.960000   337.000000    19.880000   \n",
       "max    8789.000000  93600.000000   100.000000   902.000000    88.320000   \n",
       "\n",
       "       Lipid_Tot_(g)      Ash_(g)  Carbohydrt_(g)  Fiber_TD_(g)  \\\n",
       "count    8790.000000  8465.000000     8790.000000   8196.000000   \n",
       "mean       10.553725     1.783468       22.127710      2.187445   \n",
       "std        15.814842     3.004609       27.270822      4.383138   \n",
       "min         0.000000     0.000000        0.000000      0.000000   \n",
       "25%         0.950000     0.840000        0.050000      0.000000   \n",
       "50%         5.140000     1.200000        9.340000      0.700000   \n",
       "75%        13.720000     2.090000       34.910000      2.600000   \n",
       "max       100.000000    99.800000      100.000000     79.000000   \n",
       "\n",
       "       Sugar_Tot_(g)  ...      Vit_D_IU   Vit_K_(µg)   FA_Sat_(g)  \\\n",
       "count    6958.000000  ...   5579.000000  5227.000000  8441.000000   \n",
       "mean        8.543066  ...     22.990142    15.631586     3.576334   \n",
       "std        14.923626  ...    154.614465    79.949125     6.518840   \n",
       "min         0.000000  ...      0.000000     0.000000     0.000000   \n",
       "25%         0.000000  ...      0.000000     0.200000     0.220000   \n",
       "50%         1.840000  ...      0.000000     1.600000     1.592000   \n",
       "75%         9.287500  ...      6.000000     5.200000     4.345000   \n",
       "max        99.800000  ...  10000.000000  1714.500000    95.600000   \n",
       "\n",
       "       FA_Mono_(g)  FA_Poly_(g)  Cholestrl_(mg)       GmWt_1       GmWt_2  \\\n",
       "count  8124.000000  8125.000000     8380.000000  8490.000000  4825.000000   \n",
       "mean      4.081006     2.288767       40.613246    96.395130   250.747668   \n",
       "std       7.010760     5.215654      119.869371    84.337063   382.226774   \n",
       "min       0.000000     0.000000        0.000000     0.100000     0.400000   \n",
       "25%       0.235750     0.220000        0.000000    29.000000    42.000000   \n",
       "50%       1.938500     0.696000        4.000000    85.000000   164.000000   \n",
       "75%       5.115000     2.081000       67.000000   130.000000   305.000000   \n",
       "max      83.689000    74.623000     3100.000000  1184.000000  5717.000000   \n",
       "\n",
       "        Refuse_Pct        CLASS  \n",
       "count  8740.000000  8790.000000  \n",
       "mean      4.964416     5.715586  \n",
       "std      12.088471     5.076376  \n",
       "min       0.000000     0.000000  \n",
       "25%       0.000000     0.000000  \n",
       "50%       0.000000    10.000000  \n",
       "75%       0.000000    10.000000  \n",
       "max      81.000000    11.000000  \n",
       "\n",
       "[8 rows x 52 columns]"
      ]
     },
     "execution_count": 2,
     "metadata": {},
     "output_type": "execute_result"
    }
   ],
   "source": [
    "df.describe()"
   ]
  },
  {
   "cell_type": "code",
   "execution_count": 3,
   "metadata": {},
   "outputs": [
    {
     "data": {
      "text/html": [
       "<div>\n",
       "<style scoped>\n",
       "    .dataframe tbody tr th:only-of-type {\n",
       "        vertical-align: middle;\n",
       "    }\n",
       "\n",
       "    .dataframe tbody tr th {\n",
       "        vertical-align: top;\n",
       "    }\n",
       "\n",
       "    .dataframe thead th {\n",
       "        text-align: right;\n",
       "    }\n",
       "</style>\n",
       "<table border=\"1\" class=\"dataframe\">\n",
       "  <thead>\n",
       "    <tr style=\"text-align: right;\">\n",
       "      <th></th>\n",
       "      <th>Shrt_Desc</th>\n",
       "      <th>GmWt_Desc1</th>\n",
       "      <th>GmWt_Desc2</th>\n",
       "    </tr>\n",
       "  </thead>\n",
       "  <tbody>\n",
       "    <tr>\n",
       "      <th>count</th>\n",
       "      <td>8790</td>\n",
       "      <td>8491</td>\n",
       "      <td>4825</td>\n",
       "    </tr>\n",
       "    <tr>\n",
       "      <th>unique</th>\n",
       "      <td>8787</td>\n",
       "      <td>911</td>\n",
       "      <td>921</td>\n",
       "    </tr>\n",
       "    <tr>\n",
       "      <th>top</th>\n",
       "      <td>BEEF,CHUCK,UNDER BLADE CNTR STEAK,BNLESS,DENVE...</td>\n",
       "      <td>3 oz</td>\n",
       "      <td>1 cup</td>\n",
       "    </tr>\n",
       "    <tr>\n",
       "      <th>freq</th>\n",
       "      <td>2</td>\n",
       "      <td>1409</td>\n",
       "      <td>298</td>\n",
       "    </tr>\n",
       "  </tbody>\n",
       "</table>\n",
       "</div>"
      ],
      "text/plain": [
       "                                                Shrt_Desc GmWt_Desc1  \\\n",
       "count                                                8790       8491   \n",
       "unique                                               8787        911   \n",
       "top     BEEF,CHUCK,UNDER BLADE CNTR STEAK,BNLESS,DENVE...       3 oz   \n",
       "freq                                                    2       1409   \n",
       "\n",
       "       GmWt_Desc2  \n",
       "count        4825  \n",
       "unique        921  \n",
       "top         1 cup  \n",
       "freq          298  "
      ]
     },
     "execution_count": 3,
     "metadata": {},
     "output_type": "execute_result"
    }
   ],
   "source": [
    "df.describe(include=\"O\")"
   ]
  },
  {
   "cell_type": "markdown",
   "metadata": {},
   "source": [
    "Значения целевого признака -- это [00, 01, 10, 11]."
   ]
  },
  {
   "cell_type": "code",
   "execution_count": 4,
   "metadata": {},
   "outputs": [
    {
     "data": {
      "image/png": "[encoded data removed]",
      "text/plain": [
       "<Figure size 640x480 with 1 Axes>"
      ]
     },
     "metadata": {},
     "output_type": "display_data"
    }
   ],
   "source": [
    "def view_class():\n",
    "    df['CLASS'].hist(bins=50)\n",
    "    plt.title('Распределение значений в столбце CLASS')\n",
    "    plt.xlabel('CLASS')\n",
    "    plt.ylabel('Количество')\n",
    "    plt.grid(False)\n",
    "    plt.show()\n",
    "\n",
    "view_class()"
   ]
  },
  {
   "cell_type": "code",
   "execution_count": 5,
   "metadata": {},
   "outputs": [
    {
     "data": {
      "image/png": "[encoded data removed]",
      "text/plain": [
       "<Figure size 640x480 with 1 Axes>"
      ]
     },
     "metadata": {},
     "output_type": "display_data"
    }
   ],
   "source": [
    "from sklearn.preprocessing import LabelEncoder\n",
    "\n",
    "label_encoder = LabelEncoder()\n",
    "\n",
    "df['CLASS'] = label_encoder.fit_transform(df['CLASS'])\n",
    "\n",
    "view_class()"
   ]
  },
  {
   "cell_type": "code",
   "execution_count": 6,
   "metadata": {},
   "outputs": [
    {
     "data": {
      "text/html": [
       "<div>\n",
       "<style scoped>\n",
       "    .dataframe tbody tr th:only-of-type {\n",
       "        vertical-align: middle;\n",
       "    }\n",
       "\n",
       "    .dataframe tbody tr th {\n",
       "        vertical-align: top;\n",
       "    }\n",
       "\n",
       "    .dataframe thead th {\n",
       "        text-align: right;\n",
       "    }\n",
       "</style>\n",
       "<table border=\"1\" class=\"dataframe\">\n",
       "  <thead>\n",
       "    <tr style=\"text-align: right;\">\n",
       "      <th></th>\n",
       "      <th>Shrt_Desc</th>\n",
       "      <th>GmWt_Desc1</th>\n",
       "      <th>GmWt_Desc2</th>\n",
       "    </tr>\n",
       "  </thead>\n",
       "  <tbody>\n",
       "    <tr>\n",
       "      <th>0</th>\n",
       "      <td>BUTTER,WITH SALT</td>\n",
       "      <td>1 pat,  (1\" sq, 1/3\" high)</td>\n",
       "      <td>1 tbsp</td>\n",
       "    </tr>\n",
       "    <tr>\n",
       "      <th>1</th>\n",
       "      <td>BUTTER,WHIPPED,W/ SALT</td>\n",
       "      <td>1 pat,  (1\" sq, 1/3\" high)</td>\n",
       "      <td>1 tbsp</td>\n",
       "    </tr>\n",
       "    <tr>\n",
       "      <th>2</th>\n",
       "      <td>BUTTER OIL,ANHYDROUS</td>\n",
       "      <td>1 tbsp</td>\n",
       "      <td>1 cup</td>\n",
       "    </tr>\n",
       "    <tr>\n",
       "      <th>3</th>\n",
       "      <td>CHEESE,BLUE</td>\n",
       "      <td>1 oz</td>\n",
       "      <td>1 cubic inch</td>\n",
       "    </tr>\n",
       "    <tr>\n",
       "      <th>4</th>\n",
       "      <td>CHEESE,BRICK</td>\n",
       "      <td>1 cup, diced</td>\n",
       "      <td>1 cup, shredded</td>\n",
       "    </tr>\n",
       "  </tbody>\n",
       "</table>\n",
       "</div>"
      ],
      "text/plain": [
       "                Shrt_Desc                  GmWt_Desc1       GmWt_Desc2\n",
       "0        BUTTER,WITH SALT  1 pat,  (1\" sq, 1/3\" high)           1 tbsp\n",
       "1  BUTTER,WHIPPED,W/ SALT  1 pat,  (1\" sq, 1/3\" high)           1 tbsp\n",
       "2    BUTTER OIL,ANHYDROUS                      1 tbsp            1 cup\n",
       "3             CHEESE,BLUE                        1 oz     1 cubic inch\n",
       "4            CHEESE,BRICK                1 cup, diced  1 cup, shredded"
      ]
     },
     "execution_count": 6,
     "metadata": {},
     "output_type": "execute_result"
    }
   ],
   "source": [
    "df[[\"Shrt_Desc\", \"GmWt_Desc1\", \"GmWt_Desc2\"]].head()"
   ]
  },
  {
   "cell_type": "markdown",
   "metadata": {},
   "source": [
    "Удалим ненужнные столбцы (индексы, которкие описания продукта)"
   ]
  },
  {
   "cell_type": "code",
   "execution_count": 7,
   "metadata": {},
   "outputs": [],
   "source": [
    "df = df.drop(columns=[\"Unnamed: 0\", \"NDB_No\", \"Shrt_Desc\", \"GmWt_Desc1\", \"GmWt_Desc2\"])"
   ]
  },
  {
   "cell_type": "markdown",
   "metadata": {},
   "source": [
    "Выведем количество пропущенных значений, отсортировав по убыванию."
   ]
  },
  {
   "cell_type": "code",
   "execution_count": 8,
   "metadata": {},
   "outputs": [
    {
     "data": {
      "text/plain": [
       "Choline_Tot_ (mg)    4016\n",
       "GmWt_2               3965\n",
       "Vit_K_(µg)           3563\n",
       "Lut+Zea_ (µg)        3315\n",
       "Lycopene_(µg)        3292\n",
       "Beta_Crypt_(µg)      3270\n",
       "Vit_D_µg             3262\n",
       "Alpha_Carot_(µg)     3258\n",
       "Vit_D_IU             3211\n",
       "Beta_Carot_(µg)      3162\n",
       "Vit_E_(mg)           2889\n",
       "Panto_Acid_mg)       2242\n",
       "Manganese_(mg)       2160\n",
       "Folate_DFE_(µg)      2057\n",
       "Folic_Acid_(µg)      2039\n",
       "Sugar_Tot_(g)        1832\n",
       "Retinol_(µg)         1806\n",
       "Food_Folate_(µg)     1768\n",
       "Selenium_(µg)        1700\n",
       "Vit_A_RAE            1535\n",
       "Folate_Tot_(µg)      1261\n",
       "Copper_mg)           1257\n",
       "Vit_B12_(µg)         1193\n",
       "Vit_B6_(mg)           905\n",
       "Vit_C_(mg)            818\n",
       "Magnesium_(mg)        739\n",
       "Vit_A_IU              711\n",
       "Zinc_(mg)             706\n",
       "FA_Mono_(g)           666\n",
       "FA_Poly_(g)           665\n",
       "Niacin_(mg)           637\n",
       "Thiamin_(mg)          634\n",
       "Riboflavin_(mg)       616\n",
       "Fiber_TD_(g)          594\n",
       "Phosphorus_(mg)       579\n",
       "Potassium_(mg)        426\n",
       "Cholestrl_(mg)        410\n",
       "FA_Sat_(g)            349\n",
       "Calcium_(mg)          348\n",
       "Ash_(g)               325\n",
       "GmWt_1                300\n",
       "Iron_(mg)             144\n",
       "Sodium_(mg)            83\n",
       "Refuse_Pct             50\n",
       "Water_(g)               1\n",
       "Energ_Kcal              0\n",
       "Carbohydrt_(g)          0\n",
       "Lipid_Tot_(g)           0\n",
       "Protein_(g)             0\n",
       "CLASS                   0\n",
       "dtype: int64"
      ]
     },
     "execution_count": 8,
     "metadata": {},
     "output_type": "execute_result"
    }
   ],
   "source": [
    "df.isna().sum().sort_values(ascending=False)"
   ]
  },
  {
   "cell_type": "markdown",
   "metadata": {},
   "source": [
    "Удалим столбцы, у которых пропущено более 2000 значений"
   ]
  },
  {
   "cell_type": "code",
   "execution_count": 9,
   "metadata": {},
   "outputs": [
    {
     "data": {
      "text/plain": [
       "Sugar_Tot_(g)       1832\n",
       "Retinol_(µg)        1806\n",
       "Food_Folate_(µg)    1768\n",
       "Selenium_(µg)       1700\n",
       "Vit_A_RAE           1535\n",
       "Folate_Tot_(µg)     1261\n",
       "Copper_mg)          1257\n",
       "Vit_B12_(µg)        1193\n",
       "Vit_B6_(mg)          905\n",
       "Vit_C_(mg)           818\n",
       "Magnesium_(mg)       739\n",
       "Vit_A_IU             711\n",
       "Zinc_(mg)            706\n",
       "FA_Mono_(g)          666\n",
       "FA_Poly_(g)          665\n",
       "Niacin_(mg)          637\n",
       "Thiamin_(mg)         634\n",
       "Riboflavin_(mg)      616\n",
       "Fiber_TD_(g)         594\n",
       "Phosphorus_(mg)      579\n",
       "Potassium_(mg)       426\n",
       "Cholestrl_(mg)       410\n",
       "FA_Sat_(g)           349\n",
       "Calcium_(mg)         348\n",
       "Ash_(g)              325\n",
       "GmWt_1               300\n",
       "Iron_(mg)            144\n",
       "Sodium_(mg)           83\n",
       "Refuse_Pct            50\n",
       "Water_(g)              1\n",
       "Energ_Kcal             0\n",
       "Carbohydrt_(g)         0\n",
       "Lipid_Tot_(g)          0\n",
       "Protein_(g)            0\n",
       "CLASS                  0\n",
       "dtype: int64"
      ]
     },
     "execution_count": 9,
     "metadata": {},
     "output_type": "execute_result"
    }
   ],
   "source": [
    "isna = df.isna().sum()\n",
    "df = df.drop(columns=isna[isna > 2_000].index)\n",
    "df.isna().sum().sort_values(ascending=False)"
   ]
  },
  {
   "cell_type": "markdown",
   "metadata": {},
   "source": [
    "Проверим, есть ли строки с большим количеством незаполненных значений"
   ]
  },
  {
   "cell_type": "code",
   "execution_count": 10,
   "metadata": {},
   "outputs": [
    {
     "data": {
      "text/plain": [
       "26      26\n",
       "25       4\n",
       "24       3\n",
       "23       8\n",
       "22      26\n",
       "21      34\n",
       "20      25\n",
       "19      12\n",
       "18      32\n",
       "17     159\n",
       "16      81\n",
       "15      41\n",
       "14     104\n",
       "13      89\n",
       "12      82\n",
       "11      89\n",
       "10     145\n",
       "9       75\n",
       "8      116\n",
       "7      107\n",
       "6      215\n",
       "5      234\n",
       "4      208\n",
       "3      271\n",
       "2      596\n",
       "1     1147\n",
       "0     4861\n",
       "Name: count, dtype: int64"
      ]
     },
     "execution_count": 10,
     "metadata": {},
     "output_type": "execute_result"
    }
   ],
   "source": [
    "df.isna().sum(axis=1).value_counts().sort_index(ascending=False)"
   ]
  },
  {
   "cell_type": "markdown",
   "metadata": {},
   "source": [
    "Предлагаю удалить строки, в которых больше 5 пропущеннных значений"
   ]
  },
  {
   "cell_type": "code",
   "execution_count": 11,
   "metadata": {},
   "outputs": [
    {
     "name": "stdout",
     "output_type": "stream",
     "text": [
      "1473 строк удалено\n"
     ]
    }
   ],
   "source": [
    "len_before = len(df)\n",
    "df = df.dropna(thresh=(len(df.columns) - 5))\n",
    "print(len_before - len(df), \"строк удалено\")"
   ]
  },
  {
   "cell_type": "markdown",
   "metadata": {},
   "source": [
    "Уберём дубликаты:"
   ]
  },
  {
   "cell_type": "code",
   "execution_count": 12,
   "metadata": {},
   "outputs": [
    {
     "name": "stdout",
     "output_type": "stream",
     "text": [
      "7317\n",
      "7294\n"
     ]
    }
   ],
   "source": [
    "print(len(df))\n",
    "df = df.drop_duplicates()\n",
    "print(len(df))"
   ]
  },
  {
   "cell_type": "markdown",
   "metadata": {},
   "source": [
    "Заполним пустые значения средним"
   ]
  },
  {
   "cell_type": "code",
   "execution_count": 13,
   "metadata": {},
   "outputs": [
    {
     "name": "stdout",
     "output_type": "stream",
     "text": [
      "Будет заполнено 5149 значений\n"
     ]
    },
    {
     "data": {
      "text/plain": [
       "0"
      ]
     },
     "execution_count": 13,
     "metadata": {},
     "output_type": "execute_result"
    }
   ],
   "source": [
    "print(\"Будет заполнено\", df.isna().sum().sum(), \"значений\")\n",
    "\n",
    "df = df.fillna(df.mean())\n",
    "df.isna().sum().sum()"
   ]
  },
  {
   "cell_type": "markdown",
   "metadata": {},
   "source": [
    "### Нормализация данных"
   ]
  },
  {
   "cell_type": "code",
   "execution_count": 14,
   "metadata": {},
   "outputs": [],
   "source": [
    "from sklearn.preprocessing import StandardScaler, MinMaxScaler\n",
    "\n",
    "scaler_standard = StandardScaler()\n",
    "scaler_minmax = MinMaxScaler()\n",
    "\n",
    "scaled_standard = scaler_standard.fit_transform(df.drop('CLASS', axis=1)) # исключая \"CLASS\"\n",
    "scaled_minmax = scaler_minmax.fit_transform(df.drop('CLASS', axis=1))\n",
    "\n",
    "df_standard = pd.DataFrame(scaled_standard, columns=df.columns[df.columns != 'CLASS']) # исключая \"CLASS\"\n",
    "df_minmax = pd.DataFrame(scaled_minmax, columns=df.columns[df.columns != 'CLASS'])"
   ]
  },
  {
   "cell_type": "markdown",
   "metadata": {},
   "source": [
    "### Обучим KNN"
   ]
  },
  {
   "cell_type": "code",
   "execution_count": 15,
   "metadata": {},
   "outputs": [],
   "source": [
    "from sklearn.model_selection import train_test_split\n",
    "from sklearn.neighbors import KNeighborsClassifier\n",
    "from sklearn.metrics import accuracy_score, confusion_matrix\n",
    "\n",
    "def test_KNN(x, y):\n",
    "    X_train, X_test, y_train, y_test = train_test_split(x, y, test_size=0.2, random_state=42)\n",
    "\n",
    "    knn = KNeighborsClassifier(n_neighbors=5)\n",
    "\n",
    "    knn.fit(X_train, y_train)\n",
    "\n",
    "    y_pred = knn.predict(X_test)\n",
    "\n",
    "    # Оценим точность \n",
    "    accuracy = accuracy_score(y_test, y_pred)\n",
    "    print(f'Точность классификатора KNN: {accuracy:.2f}')\n",
    "\n",
    "    # Матрица ошибок\n",
    "    conf_matrix = confusion_matrix(y_test, y_pred)\n",
    "    plt.figure(figsize=(10, 8))\n",
    "    sns.heatmap(conf_matrix, annot=True, fmt='d')\n",
    "    plt.title('Матрица ошибок')\n",
    "    plt.ylabel('Фактический класс')\n",
    "    plt.xlabel('Предсказанный класс')\n",
    "    plt.show()\n"
   ]
  },
  {
   "cell_type": "code",
   "execution_count": 16,
   "metadata": {},
   "outputs": [
    {
     "name": "stdout",
     "output_type": "stream",
     "text": [
      "Точность классификатора KNN: 0.79\n"
     ]
    },
    {
     "data": {
      "image/png": "[encoded data removed]",
      "text/plain": [
       "<Figure size 1000x800 with 2 Axes>"
      ]
     },
     "metadata": {},
     "output_type": "display_data"
    }
   ],
   "source": [
    "x = df.drop('CLASS', axis=1)\n",
    "y = df['CLASS']\n",
    "\n",
    "test_KNN(x,y)"
   ]
  },
  {
   "cell_type": "markdown",
   "metadata": {},
   "source": [
    "Тест на данных с MinMaxScaler"
   ]
  },
  {
   "cell_type": "code",
   "execution_count": 17,
   "metadata": {},
   "outputs": [
    {
     "name": "stdout",
     "output_type": "stream",
     "text": [
      "Точность классификатора KNN: 0.87\n"
     ]
    },
    {
     "data": {
      "image/png": "[encoded data removed]",
      "text/plain": [
       "<Figure size 1000x800 with 2 Axes>"
      ]
     },
     "metadata": {},
     "output_type": "display_data"
    }
   ],
   "source": [
    "x = df_minmax\n",
    "y = df['CLASS']\n",
    "\n",
    "test_KNN(x,y)"
   ]
  },
  {
   "cell_type": "markdown",
   "metadata": {},
   "source": [
    "Тест на данных с StandardScaler"
   ]
  },
  {
   "cell_type": "code",
   "execution_count": 18,
   "metadata": {},
   "outputs": [
    {
     "name": "stdout",
     "output_type": "stream",
     "text": [
      "Точность классификатора KNN: 0.86\n"
     ]
    },
    {
     "data": {
      "image/png": "[encoded data removed]",
      "text/plain": [
       "<Figure size 1000x800 with 2 Axes>"
      ]
     },
     "metadata": {},
     "output_type": "display_data"
    }
   ],
   "source": [
    "x = df_standard\n",
    "y = df['CLASS']\n",
    "\n",
    "test_KNN(x,y)"
   ]
  },
  {
   "cell_type": "markdown",
   "metadata": {},
   "source": [
    "Подбор гиперпараметров с помощью GridSearchCV"
   ]
  },
  {
   "cell_type": "code",
   "execution_count": 19,
   "metadata": {},
   "outputs": [
    {
     "name": "stdout",
     "output_type": "stream",
     "text": [
      "Лучшие параметры: {'metric': 'manhattan', 'n_neighbors': 11}\n",
      "Точность 0.9073210858239649\n"
     ]
    }
   ],
   "source": [
    "from sklearn.model_selection import GridSearchCV\n",
    "from sklearn.metrics import make_scorer\n",
    "\n",
    "def find_best_params(x, y):\n",
    "    knn = KNeighborsClassifier()\n",
    "    scorer = make_scorer(accuracy_score)\n",
    "    params = {\n",
    "        'n_neighbors': range(3, 12),\n",
    "        'metric': ['euclidean', 'manhattan', 'minkowski']\n",
    "        }\n",
    "\n",
    "    grid_search = GridSearchCV(estimator=knn, param_grid=params, scoring=scorer)\n",
    "    grid_search.fit(x, y)\n",
    "\n",
    "    print('Лучшие параметры:', grid_search.best_params_)\n",
    "    print('Точность', grid_search.score(x, y))\n",
    "\n",
    "\n",
    "x = df_minmax\n",
    "y = df['CLASS']\n",
    "\n",
    "find_best_params(x, y)"
   ]
  },
  {
   "cell_type": "markdown",
   "metadata": {},
   "source": [
    "Применим PCA и проверим качество"
   ]
  },
  {
   "cell_type": "code",
   "execution_count": 20,
   "metadata": {},
   "outputs": [
    {
     "name": "stdout",
     "output_type": "stream",
     "text": [
      "Лучшие параметры: {'metric': 'euclidean', 'n_neighbors': 3}\n",
      "Точность 0.945160405812997\n"
     ]
    }
   ],
   "source": [
    "from sklearn.decomposition import PCA\n",
    "\n",
    "pca = PCA(n_components=23)\n",
    "X_pca = pca.fit_transform(df_minmax)\n",
    "find_best_params(X_pca, df[\"CLASS\"])"
   ]
  }
 ],
 "metadata": {
  "kernelspec": {
   "display_name": "venv",
   "language": "python",
   "name": "python3"
  },
  "language_info": {
   "codemirror_mode": {
    "name": "ipython",
    "version": 3
   },
   "file_extension": ".py",
   "mimetype": "text/x-python",
   "name": "python",
   "nbconvert_exporter": "python",
   "pygments_lexer": "ipython3",
   "version": "3.11.8"
  }
 },
 "nbformat": 4,
 "nbformat_minor": 2
}
